{
 "cells": [
  {
   "cell_type": "markdown",
   "id": "c79b8e2b",
   "metadata": {},
   "source": [
    "# Tutorial: Climate Networks"
   ]
  },
  {
   "cell_type": "markdown",
   "id": "677ae7d7",
   "metadata": {},
   "source": [
    "The objective of this tutorial is to introduce climate networks and explain and illustrate their application with the pyunicorn package. First some theoretical background for understanding general climate networks will be given and then some methods provided by `pyunicorn.climate.ClimateNetwork` will be illustrated. An introduction and application of coupled climate networks will follow. For a detailed discussion and further references, please consult __[Donges et al., 2015](https://aip.scitation.org/doi/10.1063/1.4934554)__, on which this tutorial is based. "
   ]
  }
 ],
 "metadata": {
  "kernelspec": {
   "display_name": "Python 3 (ipykernel)",
   "language": "python",
   "name": "python3"
  },
  "language_info": {
   "codemirror_mode": {
    "name": "ipython",
    "version": 3
   },
   "file_extension": ".py",
   "mimetype": "text/x-python",
   "name": "python",
   "nbconvert_exporter": "python",
   "pygments_lexer": "ipython3",
   "version": "3.10.4"
  }
 },
 "nbformat": 4,
 "nbformat_minor": 5
}
