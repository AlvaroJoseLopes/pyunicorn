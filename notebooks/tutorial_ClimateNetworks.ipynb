{
 "cells": [
  {
   "cell_type": "markdown",
   "id": "c79b8e2b",
   "metadata": {},
   "source": [
    "# Tutorial: Climate Networks"
   ]
  },
  {
   "cell_type": "markdown",
   "id": "677ae7d7",
   "metadata": {},
   "source": [
    "The objective of this tutorial is to introduce climate networks and explain and illustrate their application with the __pyunicorn__ package. First some theoretical background for understanding general climate networks will be given and then some methods provided by `pyunicorn.climate.ClimateNetwork` will be illustrated. An introduction and application of coupled climate networks will follow. For a detailed discussion and further references, please consult __[Donges et al., 2015](https://aip.scitation.org/doi/10.1063/1.4934554)__, on which this tutorial is based. "
   ]
  },
  {
   "cell_type": "markdown",
   "id": "76c98668",
   "metadata": {},
   "source": [
    "## Introduction"
   ]
  },
  {
   "cell_type": "markdown",
   "id": "a56c11e0",
   "metadata": {},
   "source": [
    "_Climate networks (CN)_ are a way to apply complex network theory to the climate system, by assuming that each node represents a varying dynamical system. Of interest is then the collective behaviour of these interacting dynamical system and the structure of the resulting network. This approach was first introduced by __[Tsonis and Roebber, 2004](https://www.sciencedirect.com/science/article/abs/pii/S0378437103009646)__.\n",
    "\n",
    "Climate network analysis is a versatile approach for investigating climatological data and can be used as a complementary method to classical techniques from multivariate statistics. The approach allows for the analysis of single fields of climatological time series, e.g. surface air temperature observed on a grid, or even two or more fields. It has been succesfully applied in many cases, for example to dynamics and predictability of the El Niño Phenomenon \\[__[Radebach et al., 2013](https://arxiv.org/abs/1310.5494)__\\]."
   ]
  },
  {
   "cell_type": "markdown",
   "id": "05e76cc7",
   "metadata": {},
   "source": [
    "## Theory of Climate Networks (CN)"
   ]
  },
  {
   "cell_type": "markdown",
   "id": "fcc79d2d",
   "metadata": {},
   "source": [
    "Climate networks (class `climate.ClimateNetwork`) are a typical application of _functional networks_, which allow to study the dynamical relationships between subsystems of a high-dimensional complex system by constructing networks from it. The package provides classes for the construction and analysis of such networks, representing the statistical interdependency structure within and between fields of time series using various similarity measures."
   ]
  },
  {
   "cell_type": "markdown",
   "id": "1860c9d0",
   "metadata": {},
   "source": [
    "### Coupling Analysis"
   ]
  },
  {
   "cell_type": "markdown",
   "id": "30cd9555",
   "metadata": {},
   "source": [
    "Climate Networks represent strong statistical interrelationships between time series of climatological fields. These statistical interrelationships can be estimated with methods from the `timeseries.CouplingAnalysis` class in terms of matrices of _statistical similarities_ $\\textbf{S}$, such as the _(lagged) classical linear Pearson product-moment correlation coefficient_ (CC). \n",
    "\n",
    "The CC of two zero-mean time series Variable $X$,$Y$, implemented in `CouplingAnalysis.cross_correlation`, is given by \n",
    "\n",
    "$$\\rho_{XY}(\\tau)=\\frac{\\langle X_{t-\\tau}, Y_t \\rangle}{\\sigma_X \\sigma_Y}$$\n",
    "\n",
    "which depents on the covariance $\\langle X_{t-\\tau}, Y_t \\rangle$ and standard deviations $\\sigma_X, \\sigma_Y$. Lags $\\tau > 0$ correspond to the linear association of past values of $X$ with $Y$, and vice versa for $\\tau < 0$. "
   ]
  },
  {
   "cell_type": "markdown",
   "id": "70377c40",
   "metadata": {},
   "source": [
    "#### Similarity Measures for Climate Networks"
   ]
  },
  {
   "cell_type": "markdown",
   "id": "fadb2909",
   "metadata": {},
   "source": [
    "By thresholding the matrix of a statistical similarity measure $\\textbf{S}$, e.g. based on the CC from above, the interellationships between time series of climate networks can be reconstructed:\n",
    "\n",
    "$$A_{pq} = \\Theta(S_{pq}-\\beta), \\text{ if } p \\neq q$$\n",
    "\n",
    "and 0 otherwise. $\\Theta$ is the Heaviside function, $\\beta$ denotes a threshold parameter and $A_{pp} = 0$ is set for all nodes $p$ to exclude self-loops. \n",
    "\n",
    "A climate network that is reconstructed using the pearson correlation  from above is call _pearson correlation climate network_."
   ]
  },
  {
   "cell_type": "markdown",
   "id": "9c64c013",
   "metadata": {},
   "source": [
    "## Application: CN for Detecting Climate Transitions"
   ]
  },
  {
   "cell_type": "markdown",
   "id": "08c180ca",
   "metadata": {},
   "source": [
    "Climate networks based on spatial correlations of time series have recently been introduced to develop early warning indicators for climate transitions. In the following, we present a use case for the study of fields of single climatological observables using pearson correlation climate networks (PCCN)."
   ]
  },
  {
   "cell_type": "markdown",
   "id": "82a4c7c3",
   "metadata": {},
   "source": [
    "### Collapse of the Atlantic Meridional Overturning Circulation (AMOC)"
   ]
  },
  {
   "cell_type": "markdown",
   "id": "17576547",
   "metadata": {},
   "source": [
    "The Atlantic Meridional Overturning Circulation (AMOC) is an important component of the climate system that transports warm and salty water northwards from the tropics via, e.g., the gulf stream. Heat is released to the atmosphere at high latitudes, with the cooler and therefore denser water sinking and returning to southern latitudes at depth then. One can imagine this system like a \"conveyer belt\" for ocean water \\[__[Hawkins et al., 2011](https://agupubs.onlinelibrary.wiley.com/doi/full/10.1029/2011GL047208)__\\].\n",
    "\n",
    "The AMOC is sensitive to freshwater addition to the North Atlantic (e.g. due to melting of ice in greenland or the artic), as this causes seawater to become less dense and thus hinders its ability to sink. Therefore the circulation is slowed down and can be disrupted, possibly collapsing to a state with a strongly reduced northward heat transport. This has been identified as one of the important tipping elements in the climate system \\[__[Feng, Viebahn & Dijkstra, 2014](https://agupubs.onlinelibrary.wiley.com/doi/full/10.1002/2014GL061019)__\\]."
   ]
  },
  {
   "cell_type": "markdown",
   "id": "3027c7f8",
   "metadata": {},
   "source": []
  }
 ],
 "metadata": {
  "kernelspec": {
   "display_name": "Python 3 (ipykernel)",
   "language": "python",
   "name": "python3"
  },
  "language_info": {
   "codemirror_mode": {
    "name": "ipython",
    "version": 3
   },
   "file_extension": ".py",
   "mimetype": "text/x-python",
   "name": "python",
   "nbconvert_exporter": "python",
   "pygments_lexer": "ipython3",
   "version": "3.10.4"
  }
 },
 "nbformat": 4,
 "nbformat_minor": 5
}
