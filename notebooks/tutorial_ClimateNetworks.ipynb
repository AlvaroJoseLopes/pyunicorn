{
 "cells": [
  {
   "cell_type": "markdown",
   "id": "c79b8e2b",
   "metadata": {},
   "source": [
    "# Tutorial: Climate Networks"
   ]
  },
  {
   "cell_type": "markdown",
   "id": "677ae7d7",
   "metadata": {},
   "source": [
    "The objective of this tutorial is to introduce climate networks and explain and illustrate their application with the __pyunicorn__ package. First some theoretical background for understanding general climate networks will be given and then some methods provided by `pyunicorn.climate.ClimateNetwork` will be illustrated. An introduction and application of coupled climate networks will follow. For a detailed discussion and further references, please consult __[Donges et al., 2015](https://aip.scitation.org/doi/10.1063/1.4934554)__, on which this tutorial is based. "
   ]
  },
  {
   "cell_type": "markdown",
   "id": "76c98668",
   "metadata": {},
   "source": [
    "## Introduction"
   ]
  },
  {
   "cell_type": "markdown",
   "id": "a56c11e0",
   "metadata": {},
   "source": [
    "_Climate networks (CN)_ are a way to apply complex network theory to the climate system, by assuming that each node represents a varying dynamical system. Of interest is then the collective behaviour of these interacting dynamical system and the structure of the resulting network. This approach was first introduced by __[Tsonis and Roebber, 2004](https://www.sciencedirect.com/science/article/abs/pii/S0378437103009646)__.\n",
    "\n",
    "Climate network analysis is a versatile approach for investigating climatological data and can be used as a complementary method to classical techniques from multivariate statistics. The approach allows for the analysis of single fields of climatological time series, e.g. surface air temperature observed on a grid, or even two or more fields. It has been succesfully applied in many cases, for example to dynamics and predictability of the El Niño Phenomenon \\[__[Radebach et al., 2013](https://arxiv.org/abs/1310.5494)__\\]."
   ]
  },
  {
   "cell_type": "markdown",
   "id": "05e76cc7",
   "metadata": {},
   "source": [
    "## Theory of Climate Networks (CN)"
   ]
  },
  {
   "cell_type": "markdown",
   "id": "fcc79d2d",
   "metadata": {},
   "source": [
    "Climate networks are a typical application of _functional networks_, which allow to study the dynamical relationships between subsystems of a high-dimensional complex system by constructing networks from it. The package provides classes for the construction and analysis of such networks, representing the statistical interdependency structure within and between fields of time series using various similarity measures."
   ]
  },
  {
   "cell_type": "markdown",
   "id": "1860c9d0",
   "metadata": {},
   "source": [
    "### Similarity Measures for Time Series"
   ]
  }
 ],
 "metadata": {
  "kernelspec": {
   "display_name": "Python 3 (ipykernel)",
   "language": "python",
   "name": "python3"
  },
  "language_info": {
   "codemirror_mode": {
    "name": "ipython",
    "version": 3
   },
   "file_extension": ".py",
   "mimetype": "text/x-python",
   "name": "python",
   "nbconvert_exporter": "python",
   "pygments_lexer": "ipython3",
   "version": "3.10.4"
  }
 },
 "nbformat": 4,
 "nbformat_minor": 5
}
