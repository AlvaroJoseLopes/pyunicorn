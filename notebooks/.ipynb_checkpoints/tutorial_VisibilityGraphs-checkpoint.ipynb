{
 "cells": [
  {
   "cell_type": "markdown",
   "id": "6154b988",
   "metadata": {},
   "source": [
    "# Tutorial: Network-Based Time Series Analysis via Visibility Graphs"
   ]
  },
  {
   "cell_type": "markdown",
   "id": "86362e1e",
   "metadata": {},
   "source": [
    "The objective of this tutorial is to introduce the network-based method of visbility graphs for nonlinear time series analysis and explain and illustrate their application with the pyunicorn package. For a detailed discussion please consult __[Donges et al., 2015](https://aip.scitation.org/doi/10.1063/1.4934554)__, on which this tutorial is based. "
   ]
  },
  {
   "cell_type": "markdown",
   "id": "f5ecd3c6",
   "metadata": {},
   "source": [
    "## Introduction"
   ]
  },
  {
   "cell_type": "markdown",
   "id": "82630840",
   "metadata": {},
   "source": [
    "Visibility Graphs (VG) encode visibility relations between data points in the one-dimensional time domain, by drawing upon analogies between height profiles in physical space and the profile of a time series graph. VGs are based on the existence or non-existence of lines of sight between well-defined objects \\[__[Donges et al., 2015](https://aip.scitation.org/doi/10.1063/1.4934554)__\\].\n",
    "\n",
    "They can be applied to investigate purely temporal features such as long-range correlations \\[__[Lacasa et al., 2009](https://iopscience.iop.org/article/10.1209/0295-5075/86/30001)__\\] or time reversal asymmetry \\[__[Donges et al., 2013](https://iopscience.iop.org/article/10.1209/0295-5075/102/10004)__\\]."
   ]
  },
  {
   "cell_type": "markdown",
   "id": "e02236af",
   "metadata": {},
   "source": [
    "## Theory of Time Series Visibility Graphs"
   ]
  },
  {
   "cell_type": "markdown",
   "id": "7083e755",
   "metadata": {},
   "source": [
    "### Standard Visibility Graph"
   ]
  },
  {
   "cell_type": "markdown",
   "id": "4d45f2a5",
   "metadata": {},
   "source": [
    "In a time series context, well-defined objects between which lines of sight can be established are the sampling points of a (univariate) time series graph. These sampling points are uniquely characterised by pairs $(t_v, x_v)$ with $x_v = x(t_v)$. From a practical perspective, we can identify each node $v$ of a standard visibility graph with a given time point $t_v$. For $t_v < t_p$ (and, hence, $v < p$) a link between the nodes $v$ and $p$ exists iff\n",
    "\n",
    "$$x_q < x_v + \\frac{x_p-x_v}{t_p-t_v}(t_q - t_v)\\;\\forall\\; v < q < p$$.\n",
    "\n",
    "Put differently, the topological properties of VGs are closely related to the roughness of the underlying time series profile, as can be seen in the figure below, taken from __[Donner and Donges, 2012](https://link.springer.com/article/10.2478/s11600-012-0032-x)__. The VG of a time series stays invariant under arbitrary affine transformations.\n"
   ]
  },
  {
   "cell_type": "markdown",
   "id": "dbec9eef",
   "metadata": {},
   "source": [
    "![visibilitygraph](images/SimpleVG.PNG)"
   ]
  },
  {
   "cell_type": "markdown",
   "id": "a0c4fc91",
   "metadata": {},
   "source": [
    "### Horizontal Visibility Graph"
   ]
  },
  {
   "cell_type": "markdown",
   "id": "1b60e2a4",
   "metadata": {},
   "source": [
    "A notable algorithmic variant are horizontal visibility graphs (HVGs) that facilitate analytical investigations of graph profiles \\[__[Luque et al., 2009](https://journals.aps.org/pre/abstract/10.1103/PhysRevE.80.046103)__\\]. For HVGs the more restrictive condition\n",
    "\n",
    "$$x_q<\\text{min}\\{x_v,x_p\\}\\;\\forall\\;v<q<p$$\n",
    "\n",
    "holds and the linkset of a HVG is a subset of that of a standard VG. A HVG remains invariant only for uniform translations and rescaling of the original data. \n"
   ]
  },
  {
   "cell_type": "markdown",
   "id": "41f104c7",
   "metadata": {},
   "source": [
    "## Application of Visibility Graphs"
   ]
  },
  {
   "cell_type": "markdown",
   "id": "0ddeee77",
   "metadata": {},
   "source": []
  }
 ],
 "metadata": {
  "kernelspec": {
   "display_name": "Python 3 (ipykernel)",
   "language": "python",
   "name": "python3"
  },
  "language_info": {
   "codemirror_mode": {
    "name": "ipython",
    "version": 3
   },
   "file_extension": ".py",
   "mimetype": "text/x-python",
   "name": "python",
   "nbconvert_exporter": "python",
   "pygments_lexer": "ipython3",
   "version": "3.10.4"
  }
 },
 "nbformat": 4,
 "nbformat_minor": 5
}
